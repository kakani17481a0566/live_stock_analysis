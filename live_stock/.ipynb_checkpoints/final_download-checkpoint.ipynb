{
 "cells": [
  {
   "cell_type": "code",
   "execution_count": 7,
   "metadata": {},
   "outputs": [],
   "source": [
    "tickers = [\n",
    "    \"RELIANCE.NS\",      # Reliance Industries Ltd. (Energy)\n",
    "    \"TCS.NS\",           # Tata Consultancy Services Ltd. (IT)\n",
    "    \"HDFCBANK.NS\",      # HDFC Bank Ltd. (Banking)\n",
    "    \"INFY.NS\",          # Infosys Ltd. (IT)\n",
    "    \"HINDUNILVR.NS\",    # Hindustan Unilever Ltd. (Consumer Goods)\n",
    "    \"ICICIBANK.NS\",     # ICICI Bank Ltd. (Banking)\n",
    "    \"LT.NS\",            # Larsen & Toubro Ltd. (Construction)\n",
    "    \"SBIN.NS\",          # State Bank of India (Banking)\n",
    "    \"BHARTIARTL.NS\",    # Bharti Airtel Ltd. (Telecom)\n",
    "    \"KOTAKBANK.NS\",     # Kotak Mahindra Bank Ltd. (Banking)\n",
    "    \"HCLTECH.NS\",       # HCL Technologies Ltd. (IT)\n",
    "    \"ITC.NS\",           # ITC Ltd. (Consumer Goods)\n",
    "    \"TITAN.NS\",         # Titan Company Ltd. (Consumer Goods)\n",
    "    \"AXISBANK.NS\",      # Axis Bank Ltd. (Banking)\n",
    "    \"MARUTI.NS\",        # Maruti Suzuki India Ltd. (Automobile)\n",
    "    \"SUNPHARMA.NS\",     # Sun Pharmaceutical Industries Ltd. (Pharma)\n",
    "    \"ONGC.NS\",          # Oil and Natural Gas Corporation (Energy)\n",
    "    \"ADANIGREEN.NS\",    # Adani Green Energy Ltd. (Energy)\n",
    "    \"WIPRO.NS\",         # Wipro Ltd. (IT)\n",
    "    \"BAJFINANCE.NS\",    # Bajaj Finance Ltd. (Financial Services)\n",
    "    \"DRREDDY.NS\",       # Dr. Reddy's Laboratories Ltd. (Pharma)\n",
    "    \"NTPC.NS\",          # NTPC Ltd. (Energy)\n",
    "    \"TATASTEEL.NS\",     # Tata Steel Ltd. (Metals)\n",
    "    \"JSWSTEEL.NS\",      # JSW Steel Ltd. (Metals)\n",
    "    \"HDFCLIFE.NS\",      # HDFC Life Insurance Co. Ltd. (Insurance)\n",
    "    \"RECLTD.NS\",        # Rural Electrification Corporation (Financial Services)\n",
    "    \"PIDILITIND.NS\",    # Pidilite Industries Ltd. (Chemicals)\n",
    "    \"SHREECEM.NS\",      # Shree Cement Ltd. (Cement)\n",
    "    \"GAIL.NS\",          # GAIL (India) Ltd. (Energy)\n",
    "    \"TATAMOTORS.NS\",    # Tata Motors Ltd. (Automobile)\n",
    "    \"CIPLA.NS\",         # Cipla Ltd. (Pharma)\n",
    "    \"HINDALCO.NS\",      # Hindalco Industries Ltd. (Metals)\n",
    "    \"EICHERMOT.NS\",     # Eicher Motors Ltd. (Automobile)\n",
    "    \"INDUSINDBK.NS\",    # IndusInd Bank Ltd. (Banking)\n",
    "    \"ADANIPORTS.NS\",    # Adani Ports and SEZ Ltd. (Logistics)\n",
    "    \"BANKBARODA.NS\",    # Bank of Baroda (Banking)\n",
    "    \"ULTRACEMCO.NS\",    # UltraTech Cement Ltd. (Cement)\n",
    "    \"M&M.NS\",           # Mahindra & Mahindra Ltd. (Automobile)\n",
    "    \"BERGEPAINT.NS\",    # Berger Paints India Ltd. (Consumer Goods)\n",
    "    \"HDFC.NS\",          # Housing Development Finance Corporation Ltd. (Financial Services)\n",
    "    \"LTI.NS\",           # Larsen & Toubro Infotech Ltd. (IT)\n",
    "    \"SRF.NS\",           # SRF Ltd. (Chemicals)\n",
    "    \"ABB.NS\",           # ABB India Ltd. (Engineering)\n",
    "    \"PVR.NS\",           # PVR Ltd. (Entertainment)\n",
    "    \"BIOCON.NS\",        # Biocon Ltd. (Pharma)\n",
    "    \"GMRINFRA.NS\",      # GMR Infrastructure Ltd. (Infrastructure)\n",
    "    \"MINDTREE.NS\",      # Mindtree Ltd. (IT)\n",
    "    \"NAVINFLUOR.NS\",    # Navin Fluorine International Ltd. (Chemicals)\n",
    "    \"ZEE.NS\",           # Zee Entertainment Enterprises Ltd. (Media)\n",
    "    \"DLF.NS\",           # DLF Ltd. (Real Estate)\n",
    "    \"JINDALSTEL.NS\",    # Jindal Steel & Power Ltd. (Metals)\n",
    "    \"TATAPOWER.NS\",     # Tata Power Company Ltd. (Energy)\n",
    "    \"MRF.NS\",           # MRF Ltd. (Tires)\n",
    "]\n"
   ]
  },
  {
   "cell_type": "code",
   "execution_count": 8,
   "metadata": {},
   "outputs": [
    {
     "data": {
      "text/plain": [
       "53"
      ]
     },
     "execution_count": 8,
     "metadata": {},
     "output_type": "execute_result"
    }
   ],
   "source": [
    "len(tickers)"
   ]
  },
  {
   "cell_type": "code",
   "execution_count": 9,
   "metadata": {},
   "outputs": [
    {
     "name": "stderr",
     "output_type": "stream",
     "text": [
      "$HDFC.NS: possibly delisted; no price data found  (period=1y) (Yahoo error = \"No data found, symbol may be delisted\")\n",
      "$LTI.NS: possibly delisted; no price data found  (period=1y) (Yahoo error = \"No data found, symbol may be delisted\")\n",
      "$PVR.NS: possibly delisted; no price data found  (period=1y) (Yahoo error = \"No data found, symbol may be delisted\")\n",
      "$MINDTREE.NS: possibly delisted; no price data found  (period=1y) (Yahoo error = \"No data found, symbol may be delisted\")\n",
      "$ZEE.NS: possibly delisted; no price data found  (period=1y)\n"
     ]
    },
    {
     "name": "stdout",
     "output_type": "stream",
     "text": [
      "                           Date           Open           High            Low  \\\n",
      "0     2023-10-04 00:00:00+05:30    2301.189783    2311.155958    2287.336897   \n",
      "1     2023-10-05 00:00:00+05:30    2311.405188    2321.520759    2301.189858   \n",
      "2     2023-10-06 00:00:00+05:30    2309.212686    2316.936472    2304.229598   \n",
      "3     2023-10-09 00:00:00+05:30    2300.292854    2304.129685    2287.237067   \n",
      "4     2023-10-10 00:00:00+05:30    2298.748200    2310.059663    2295.957623   \n",
      "...                         ...            ...            ...            ...   \n",
      "11803 2024-09-27 00:00:00+05:30  138700.000000  142383.906250  138377.000000   \n",
      "11804 2024-09-30 00:00:00+05:30  141000.000000  141884.843750  138200.046875   \n",
      "11805 2024-10-01 00:00:00+05:30  139600.000000  140447.093750  138950.203125   \n",
      "11806 2024-10-03 00:00:00+05:30  138000.000000  139894.500000  135924.406250   \n",
      "11807 2024-10-04 00:00:00+05:30  136600.000000  136782.796875  133000.000000   \n",
      "\n",
      "               Close     Volume  Dividends  Stock Splits       Ticker  \\\n",
      "0        2306.322266  5143193.0        0.0           0.0  RELIANCE.NS   \n",
      "1        2306.272705  5476841.0        0.0           0.0  RELIANCE.NS   \n",
      "2        2310.159424  2715513.0        0.0           0.0  RELIANCE.NS   \n",
      "3        2290.476074  3788439.0        0.0           0.0  RELIANCE.NS   \n",
      "4        2300.591797  5118016.0        0.0           0.0  RELIANCE.NS   \n",
      "...              ...        ...        ...           ...          ...   \n",
      "11803  140973.906250    12240.0        0.0           0.0       MRF.NS   \n",
      "11804  138513.656250     6269.0        0.0           0.0       MRF.NS   \n",
      "11805  140262.906250     3931.0        0.0           0.0       MRF.NS   \n",
      "11806  136104.343750     7483.0        0.0           0.0       MRF.NS   \n",
      "11807  133408.750000    10221.0        0.0           0.0       MRF.NS   \n",
      "\n",
      "       Adj Close  \n",
      "0            NaN  \n",
      "1            NaN  \n",
      "2            NaN  \n",
      "3            NaN  \n",
      "4            NaN  \n",
      "...          ...  \n",
      "11803        NaN  \n",
      "11804        NaN  \n",
      "11805        NaN  \n",
      "11806        NaN  \n",
      "11807        NaN  \n",
      "\n",
      "[11808 rows x 10 columns]\n",
      "Data exported to it_stocks_historical_data.csv\n"
     ]
    },
    {
     "name": "stderr",
     "output_type": "stream",
     "text": [
      "C:\\Users\\kakan\\AppData\\Local\\Temp\\ipykernel_2072\\2105905656.py:33: FutureWarning: The behavior of DataFrame concatenation with empty or all-NA entries is deprecated. In a future version, this will no longer exclude empty or all-NA columns when determining the result dtypes. To retain the old behavior, exclude the relevant entries before the concat operation.\n",
      "  all_hist = pd.concat(dataframes, ignore_index=True)\n"
     ]
    }
   ],
   "source": [
    "import yfinance as yf\n",
    "import pandas as pd\n",
    "import time\n",
    "\n",
    "# List of tickers for Indian IT companies\n",
    "\n",
    "\n",
    "# Create a list to store individual DataFrames\n",
    "dataframes = []\n",
    "\n",
    "# Loop through each ticker and fetch the historical data\n",
    "for ticker in tickers:\n",
    "    try:\n",
    "        stock = yf.Ticker(ticker)\n",
    "        hist = stock.history(period=\"1y\")  # Fetch historical data for the last year\n",
    "        \n",
    "        # Reset index to make date a column\n",
    "        hist.reset_index(inplace=True)\n",
    "        \n",
    "        # Add a column for the ticker symbol\n",
    "        hist['Ticker'] = ticker\n",
    "        \n",
    "        # Append the DataFrame to the list\n",
    "        dataframes.append(hist)\n",
    "        \n",
    "        # Sleep for a short time to avoid hitting API limits\n",
    "        time.sleep(1)\n",
    "\n",
    "    except Exception as e:\n",
    "        print(f\"Error fetching data for {ticker}: {e}\")\n",
    "\n",
    "# Concatenate all DataFrames into a single DataFrame\n",
    "all_hist = pd.concat(dataframes, ignore_index=True)\n",
    "\n",
    "# Print the combined historical market data\n",
    "print(all_hist)\n",
    "\n",
    "# Export the data to a CSV file\n",
    "all_hist.to_csv('it_stocks_historical_data.csv', index=False)\n",
    "\n",
    "print(\"Data exported to it_stocks_historical_data.csv\")\n"
   ]
  }
 ],
 "metadata": {
  "kernelspec": {
   "display_name": "Python 3",
   "language": "python",
   "name": "python3"
  },
  "language_info": {
   "codemirror_mode": {
    "name": "ipython",
    "version": 3
   },
   "file_extension": ".py",
   "mimetype": "text/x-python",
   "name": "python",
   "nbconvert_exporter": "python",
   "pygments_lexer": "ipython3",
   "version": "3.12.6"
  }
 },
 "nbformat": 4,
 "nbformat_minor": 2
}
