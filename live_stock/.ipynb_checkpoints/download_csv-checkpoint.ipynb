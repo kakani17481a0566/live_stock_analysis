{
 "cells": [
  {
   "cell_type": "code",
   "execution_count": 1,
   "metadata": {},
   "outputs": [
    {
     "name": "stdout",
     "output_type": "stream",
     "text": [
      "                                  Open         High          Low        Close  \\\n",
      "Date                                                                            \n",
      "2019-09-26 00:00:00+05:30  1190.181542  1223.972743  1186.869546  1192.773438   \n",
      "2019-09-27 00:00:00+05:30  1198.293356  1203.333244  1188.069560  1194.405396   \n",
      "2019-09-30 00:00:00+05:30  1179.621626  1190.373339  1167.813844  1178.325562   \n",
      "2019-10-01 00:00:00+05:30  1182.213613  1204.773109  1172.229812  1198.821289   \n",
      "2019-10-03 00:00:00+05:30  1190.325465  1194.021477  1167.669993  1174.581909   \n",
      "...                                ...          ...          ...          ...   \n",
      "2024-09-20 00:00:00+05:30  1716.500000  1744.949951  1707.550049  1741.199951   \n",
      "2024-09-23 00:00:00+05:30  1749.000000  1766.349976  1740.250000  1759.800049   \n",
      "2024-09-24 00:00:00+05:30  1765.000000  1781.650024  1754.250000  1768.050049   \n",
      "2024-09-25 00:00:00+05:30  1760.150024  1788.000000  1760.150024  1779.099976   \n",
      "2024-09-26 00:00:00+05:30  1773.050049  1788.000000  1768.050049  1783.449951   \n",
      "\n",
      "                             Volume  Dividends  Stock Splits  \n",
      "Date                                                          \n",
      "2019-09-26 00:00:00+05:30  15335780        0.0           0.0  \n",
      "2019-09-27 00:00:00+05:30   7436585        0.0           0.0  \n",
      "2019-09-30 00:00:00+05:30   9109229        0.0           0.0  \n",
      "2019-10-01 00:00:00+05:30   9384176        0.0           0.0  \n",
      "2019-10-03 00:00:00+05:30   8149438        0.0           0.0  \n",
      "...                             ...        ...           ...  \n",
      "2024-09-20 00:00:00+05:30  30311693        0.0           0.0  \n",
      "2024-09-23 00:00:00+05:30  13482675        0.0           0.0  \n",
      "2024-09-24 00:00:00+05:30  16519518        0.0           0.0  \n",
      "2024-09-25 00:00:00+05:30  15982656        0.0           0.0  \n",
      "2024-09-26 00:00:00+05:30  15944806        0.0           0.0  \n",
      "\n",
      "[1238 rows x 7 columns]\n",
      "Data exported to hdfc_bank_historical_data_1y.csv\n"
     ]
    }
   ],
   "source": [
    "import yfinance as yf\n",
    "\n",
    "# Get stock data for HDFC Bank Ltd (NSE)\n",
    "stock = yf.Ticker(\"HDFCBANK.NS\")\n",
    "\n",
    "# Get historical market data for the last 1 year\n",
    "hist = stock.history(period=\"5y\")\n",
    "\n",
    "# Print the historical market data\n",
    "print(hist)\n",
    "\n",
    "# Export the data to a CSV file\n",
    "hist.to_csv('hdfc_bank_historical_data_1y.csv')\n",
    "\n",
    "print(\"Data exported to hdfc_bank_historical_data_1y.csv\")\n"
   ]
  },
  {
   "cell_type": "code",
   "execution_count": 11,
   "metadata": {},
   "outputs": [
    {
     "name": "stdout",
     "output_type": "stream",
     "text": [
      "                                  Open         High          Low        Close  \\\n",
      "Date                                                                            \n",
      "2014-09-26 00:00:00+05:30   393.120049   406.556290   390.830563   403.156769   \n",
      "2014-09-29 00:00:00+05:30   403.781066   405.793022   398.323320   400.127136   \n",
      "2014-09-30 00:00:00+05:30   399.710861   406.926181   398.300177   403.619171   \n",
      "2014-10-01 00:00:00+05:30   400.543463   402.925459   397.999596   401.468506   \n",
      "2014-10-07 00:00:00+05:30   400.080944   401.005986   395.039450   398.901520   \n",
      "...                                ...          ...          ...          ...   \n",
      "2024-09-20 00:00:00+05:30  1244.000000  1250.000000  1229.900024  1245.000000   \n",
      "2024-09-23 00:00:00+05:30  1251.500000  1252.449951  1240.550049  1246.800049   \n",
      "2024-09-24 00:00:00+05:30  1241.099976  1247.099976  1235.349976  1239.550049   \n",
      "2024-09-25 00:00:00+05:30  1238.000000  1271.000000  1231.099976  1268.099976   \n",
      "2024-09-26 00:00:00+05:30  1267.550049  1281.650024  1262.250000  1277.099976   \n",
      "\n",
      "                             Volume  Dividends  Stock Splits       Ticker  \n",
      "Date                                                                       \n",
      "2014-09-26 00:00:00+05:30   4941126        0.0           0.0  HDFCBANK.NS  \n",
      "2014-09-29 00:00:00+05:30   4341134        0.0           0.0  HDFCBANK.NS  \n",
      "2014-09-30 00:00:00+05:30   6017716        0.0           0.0  HDFCBANK.NS  \n",
      "2014-10-01 00:00:00+05:30   2935094        0.0           0.0  HDFCBANK.NS  \n",
      "2014-10-07 00:00:00+05:30   2513144        0.0           0.0  HDFCBANK.NS  \n",
      "...                             ...        ...           ...          ...  \n",
      "2024-09-20 00:00:00+05:30  15009629        0.0           0.0  AXISBANK.NS  \n",
      "2024-09-23 00:00:00+05:30   5462814        0.0           0.0  AXISBANK.NS  \n",
      "2024-09-24 00:00:00+05:30   9225946        0.0           0.0  AXISBANK.NS  \n",
      "2024-09-25 00:00:00+05:30   6853324        0.0           0.0  AXISBANK.NS  \n",
      "2024-09-26 00:00:00+05:30   7268367        0.0           0.0  AXISBANK.NS  \n",
      "\n",
      "[12320 rows x 8 columns]\n",
      "Data exported to bank_stocks_historical_data.csv\n"
     ]
    },
    {
     "ename": "",
     "evalue": "",
     "output_type": "error",
     "traceback": [
      "\u001b[1;31mThe Kernel crashed while executing code in the current cell or a previous cell. \n",
      "\u001b[1;31mPlease review the code in the cell(s) to identify a possible cause of the failure. \n",
      "\u001b[1;31mClick <a href='https://aka.ms/vscodeJupyterKernelCrash'>here</a> for more info. \n",
      "\u001b[1;31mView Jupyter <a href='command:jupyter.viewOutput'>log</a> for further details."
     ]
    }
   ],
   "source": [
    "import yfinance as yf\n",
    "import pandas as pd\n",
    "\n",
    "# List of bank stock tickers (NSE)\n",
    "tickers = [\n",
    "    \"HDFCBANK.NS\",  # HDFC Bank Ltd\n",
    "    \"ICICIBANK.NS\",  # ICICI Bank Ltd\n",
    "    \"KOTAKBANK.NS\",  # Kotak Mahindra Bank Ltd\n",
    "    \"SBIN.NS\",       # State Bank of India\n",
    "    \"AXISBANK.NS\"    # Axis Bank Ltd\n",
    "]\n",
    "\n",
    "# Create a list to store individual DataFrames\n",
    "dataframes = []\n",
    "\n",
    "# Loop through each ticker and fetch the historical data\n",
    "for ticker in tickers:\n",
    "    stock = yf.Ticker(ticker)\n",
    "    hist = stock.history(period=\"10y\")\n",
    "    \n",
    "    # Add a column for the ticker symbol\n",
    "    hist['Ticker'] = ticker\n",
    "    \n",
    "    # Append the DataFrame to the list\n",
    "    dataframes.append(hist)\n",
    "\n",
    "# Concatenate all DataFrames into a single DataFrame\n",
    "all_hist = pd.concat(dataframes)\n",
    "\n",
    "# Print the combined historical market data\n",
    "print(all_hist)\n",
    "\n",
    "# Export the data to a CSV file\n",
    "all_hist.to_csv('bank_stocks_historical_data.csv')\n",
    "\n",
    "print(\"Data exported to bank_stocks_historical_data.csv\")\n"
   ]
  }
 ],
 "metadata": {
  "kernelspec": {
   "display_name": "Python 3",
   "language": "python",
   "name": "python3"
  },
  "language_info": {
   "codemirror_mode": {
    "name": "ipython",
    "version": 3
   },
   "file_extension": ".py",
   "mimetype": "text/x-python",
   "name": "python",
   "nbconvert_exporter": "python",
   "pygments_lexer": "ipython3",
   "version": "3.12.6"
  }
 },
 "nbformat": 4,
 "nbformat_minor": 2
}
